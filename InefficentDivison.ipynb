{
 "cells": [
  {
   "cell_type": "code",
   "execution_count": 6,
   "id": "ca121a76-fa45-42df-9cf7-81f6b301dc14",
   "metadata": {},
   "outputs": [
    {
     "name": "stdout",
     "output_type": "stream",
     "text": [
      "\n",
      "Inefficent Division\n",
      "\tSo 15/4 is 3.75\n",
      "    4 fits into 15 3 of time(s) the\n",
      "remainder being 3\n",
      "\tThe biggest number into 15 by 4 is 12\n",
      "\tIf it was a proper fraction it would be \n",
      "3 3/4\n",
      "\n"
     ]
    }
   ],
   "source": [
    "#Inefficent Division\n",
    "#number you want to divided\n",
    "num1 = 15\n",
    "#number you divide by\n",
    "num2 = 4\n",
    "#the rest of this  you dont grab\n",
    "num3 = num1/num2\n",
    "num4 = num1//num2\n",
    "moduel = num1%num2\n",
    "num6 = num2*num4\n",
    "math = f\"\"\"\n",
    "Inefficent Division\n",
    "\tSo {num1}/{num2} is {num3}\n",
    "    {num2} fits into {num1} {num4} of time(s) the\n",
    "remainder being {moduel}\n",
    "\tThe biggest number into {num1} by {num2} is {num6}\n",
    "\tIf it was a proper fraction it would be \n",
    "{num4} {moduel}/{num2}\n",
    "\"\"\"    \n",
    "print(math)"
   ]
  },
  {
   "cell_type": "code",
   "execution_count": null,
   "id": "8cf8f22c-a357-4b91-a044-6bb5c6d50e82",
   "metadata": {},
   "outputs": [],
   "source": []
  }
 ],
 "metadata": {
  "kernelspec": {
   "display_name": "Python 3 (ipykernel)",
   "language": "python",
   "name": "python3"
  },
  "language_info": {
   "codemirror_mode": {
    "name": "ipython",
    "version": 3
   },
   "file_extension": ".py",
   "mimetype": "text/x-python",
   "name": "python",
   "nbconvert_exporter": "python",
   "pygments_lexer": "ipython3",
   "version": "3.9.12"
  }
 },
 "nbformat": 4,
 "nbformat_minor": 5
}
